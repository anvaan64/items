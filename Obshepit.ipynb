{
 "cells": [
  {
   "cell_type": "markdown",
   "metadata": {
    "id": "PSB834lkKbDA"
   },
   "source": [
    "# Рынок заведений общественного питания Москвы\n",
    "\n",
    "## Общее описание проекта\n",
    "По открытым данным о заведениях общественного питания в Москве требуется провести исследование рынка.\n",
    "\n",
    "## Описание располагаемых данных\n",
    "\n",
    "Данные о заведениях общественного питания Москвы содержатся в файле `rest_data`. Каждая запись характеризуется следующим набором признаков:\n",
    "\n",
    "|Признак|Описание|\n",
    "|------:|:-------|\n",
    "|`id` | идентификатор объекта|\n",
    "|`object_name` | название объекта общественного питания|\n",
    "|`chain` | сетевой ресторан|\n",
    "|`object_type` | тип объекта общественного питания|\n",
    "|`address` | адрес|\n",
    "|`number` |  количество посадочных мест|\n",
    "\n"
   ]
  },
  {
   "cell_type": "code",
   "execution_count": 1,
   "metadata": {
    "executionInfo": {
     "elapsed": 4,
     "status": "ok",
     "timestamp": 1659907253879,
     "user": {
      "displayName": "Сергей ДПО",
      "userId": "02314231685143924763"
     },
     "user_tz": -180
    },
    "id": "-0VIwgTwLlZi"
   },
   "outputs": [],
   "source": [
    "import pandas as pd\n",
    "import numpy as np\n",
    "import matplotlib.pyplot as plt\n",
    "import seaborn as sns\n",
    "from scipy.stats import ttest_ind, mannwhitneyu, normaltest\n"
   ]
  },
  {
   "cell_type": "code",
   "execution_count": 2,
   "metadata": {},
   "outputs": [
    {
     "data": {
      "text/html": [
       "<div>\n",
       "<style scoped>\n",
       "    .dataframe tbody tr th:only-of-type {\n",
       "        vertical-align: middle;\n",
       "    }\n",
       "\n",
       "    .dataframe tbody tr th {\n",
       "        vertical-align: top;\n",
       "    }\n",
       "\n",
       "    .dataframe thead th {\n",
       "        text-align: right;\n",
       "    }\n",
       "</style>\n",
       "<table border=\"1\" class=\"dataframe\">\n",
       "  <thead>\n",
       "    <tr style=\"text-align: right;\">\n",
       "      <th></th>\n",
       "      <th>id</th>\n",
       "      <th>object_name</th>\n",
       "      <th>chain</th>\n",
       "      <th>object_type</th>\n",
       "      <th>address</th>\n",
       "      <th>number</th>\n",
       "    </tr>\n",
       "  </thead>\n",
       "  <tbody>\n",
       "    <tr>\n",
       "      <th>0</th>\n",
       "      <td>151635</td>\n",
       "      <td>СМЕТАНА</td>\n",
       "      <td>нет</td>\n",
       "      <td>кафе</td>\n",
       "      <td>город Москва, улица Егора Абакумова, дом 9</td>\n",
       "      <td>48</td>\n",
       "    </tr>\n",
       "    <tr>\n",
       "      <th>1</th>\n",
       "      <td>77874</td>\n",
       "      <td>Родник</td>\n",
       "      <td>нет</td>\n",
       "      <td>кафе</td>\n",
       "      <td>город Москва, улица Талалихина, дом 2/1, корпус 1</td>\n",
       "      <td>35</td>\n",
       "    </tr>\n",
       "    <tr>\n",
       "      <th>2</th>\n",
       "      <td>24309</td>\n",
       "      <td>Кафе «Академия»</td>\n",
       "      <td>нет</td>\n",
       "      <td>кафе</td>\n",
       "      <td>город Москва, Абельмановская улица, дом 6</td>\n",
       "      <td>95</td>\n",
       "    </tr>\n",
       "    <tr>\n",
       "      <th>3</th>\n",
       "      <td>21894</td>\n",
       "      <td>ПИЦЦЕТОРИЯ</td>\n",
       "      <td>да</td>\n",
       "      <td>кафе</td>\n",
       "      <td>город Москва, Абрамцевская улица, дом 1</td>\n",
       "      <td>40</td>\n",
       "    </tr>\n",
       "    <tr>\n",
       "      <th>4</th>\n",
       "      <td>119365</td>\n",
       "      <td>Кафе «Вишневая метель»</td>\n",
       "      <td>нет</td>\n",
       "      <td>кафе</td>\n",
       "      <td>город Москва, Абрамцевская улица, дом 9, корпус 1</td>\n",
       "      <td>50</td>\n",
       "    </tr>\n",
       "  </tbody>\n",
       "</table>\n",
       "</div>"
      ],
      "text/plain": [
       "       id             object_name chain object_type  \\\n",
       "0  151635                 СМЕТАНА   нет        кафе   \n",
       "1   77874                  Родник   нет        кафе   \n",
       "2   24309         Кафе «Академия»   нет        кафе   \n",
       "3   21894              ПИЦЦЕТОРИЯ    да        кафе   \n",
       "4  119365  Кафе «Вишневая метель»   нет        кафе   \n",
       "\n",
       "                                             address  number  \n",
       "0         город Москва, улица Егора Абакумова, дом 9      48  \n",
       "1  город Москва, улица Талалихина, дом 2/1, корпус 1      35  \n",
       "2          город Москва, Абельмановская улица, дом 6      95  \n",
       "3            город Москва, Абрамцевская улица, дом 1      40  \n",
       "4  город Москва, Абрамцевская улица, дом 9, корпус 1      50  "
      ]
     },
     "execution_count": 2,
     "metadata": {},
     "output_type": "execute_result"
    }
   ],
   "source": [
    "df = pd.read_csv('project3.csv')\n",
    "df.head()"
   ]
  },
  {
   "cell_type": "markdown",
   "metadata": {},
   "source": [
    "С ипользованием метода info() получить общие сведения верности определенных типов данных и полноте заполнения строй датафрейма\n",
    "Результа: в датафрейме 15366 записей. Пропуски отсутствуют. Типы данных определенны в соответствии с физическим смыслом параметров "
   ]
  },
  {
   "cell_type": "code",
   "execution_count": 3,
   "metadata": {},
   "outputs": [
    {
     "name": "stdout",
     "output_type": "stream",
     "text": [
      "<class 'pandas.core.frame.DataFrame'>\n",
      "RangeIndex: 15366 entries, 0 to 15365\n",
      "Data columns (total 6 columns):\n",
      " #   Column       Non-Null Count  Dtype \n",
      "---  ------       --------------  ----- \n",
      " 0   id           15366 non-null  int64 \n",
      " 1   object_name  15366 non-null  object\n",
      " 2   chain        15366 non-null  object\n",
      " 3   object_type  15366 non-null  object\n",
      " 4   address      15366 non-null  object\n",
      " 5   number       15366 non-null  int64 \n",
      "dtypes: int64(2), object(4)\n",
      "memory usage: 720.4+ KB\n"
     ]
    }
   ],
   "source": [
    "df.info()"
   ]
  },
  {
   "cell_type": "markdown",
   "metadata": {},
   "source": [
    "Проверим наличие дубликатов в исходном датафрейме\n",
    "Для избегания случая, когда одна и та же запись может иметь разные id, проверим на наличие дубликатов датафрейм без колонки id\n",
    "Метод dublicated нашел 82 дубликата ( Примечание: поиск на всем датафрейме не обнаружил дубликатов)\n"
   ]
  },
  {
   "cell_type": "code",
   "execution_count": 4,
   "metadata": {},
   "outputs": [
    {
     "data": {
      "text/plain": [
       "82"
      ]
     },
     "execution_count": 4,
     "metadata": {},
     "output_type": "execute_result"
    }
   ],
   "source": [
    "df[df.drop('id', axis = 1).duplicated()].id.count()"
   ]
  },
  {
   "cell_type": "markdown",
   "metadata": {},
   "source": [
    "Удалим дубликаты. Для этого выделим индексы дубликатов и удалить записи с этими индексами. после удаления дубликатов в датафрейме оказалось 15284 записей"
   ]
  },
  {
   "cell_type": "code",
   "execution_count": 5,
   "metadata": {},
   "outputs": [
    {
     "name": "stdout",
     "output_type": "stream",
     "text": [
      "<class 'pandas.core.frame.DataFrame'>\n",
      "Int64Index: 15284 entries, 0 to 15365\n",
      "Data columns (total 6 columns):\n",
      " #   Column       Non-Null Count  Dtype \n",
      "---  ------       --------------  ----- \n",
      " 0   id           15284 non-null  int64 \n",
      " 1   object_name  15284 non-null  object\n",
      " 2   chain        15284 non-null  object\n",
      " 3   object_type  15284 non-null  object\n",
      " 4   address      15284 non-null  object\n",
      " 5   number       15284 non-null  int64 \n",
      "dtypes: int64(2), object(4)\n",
      "memory usage: 835.8+ KB\n"
     ]
    }
   ],
   "source": [
    "df.drop(index = df[df.drop('id', axis = 1).duplicated()].index, inplace=True)\n",
    "df.info()"
   ]
  },
  {
   "cell_type": "markdown",
   "metadata": {},
   "source": [
    "Оценим диапазоны значений для интервальных параметров. В данном датафрейсе существенным является только параметр number. Для этого применим метод describe. Минимальной значение - 0. Максимальное значение 1700. Эти значения нельзя считать аномальными, т.к. в Москве существует заведение с объявленным количеством посадочных мечт 1700 (Arena by Soho Family на Кутузовском проспекте). А количество 0 относится к заведениям быстрого питания с высокими столиками без стульев и фактически без посадочных мест. Там все места стоячие."
   ]
  },
  {
   "cell_type": "code",
   "execution_count": 6,
   "metadata": {},
   "outputs": [
    {
     "data": {
      "text/plain": [
       "count    15284.000000\n",
       "mean        59.784350\n",
       "std         74.838657\n",
       "min          0.000000\n",
       "25%         14.000000\n",
       "50%         40.000000\n",
       "75%         80.000000\n",
       "max       1700.000000\n",
       "Name: number, dtype: float64"
      ]
     },
     "execution_count": 6,
     "metadata": {},
     "output_type": "execute_result"
    }
   ],
   "source": [
    "df['number'].describe()"
   ]
  },
  {
   "cell_type": "markdown",
   "metadata": {},
   "source": [
    "Проверим типы объектов общественного питания на отсутствие 'нереальных' типов. В датафрейме присутствут следующие типы объектов общественного питания: кафе, столовая, закусочная,\n",
    "предприятие быстрого обслуживания, ресторан, кафетерий,буфет, бар, магазин (отдел кулинарии). Все типы вполне реальны. Возможно существуют еще и другие типы объектов общественного питания. Но в данном датасете приведены именно эти типы и они объективно реальные "
   ]
  },
  {
   "cell_type": "code",
   "execution_count": 7,
   "metadata": {},
   "outputs": [
    {
     "data": {
      "text/plain": [
       "array(['кафе', 'столовая', 'закусочная',\n",
       "       'предприятие быстрого обслуживания', 'ресторан', 'кафетерий',\n",
       "       'буфет', 'бар', 'магазин (отдел кулинарии)'], dtype=object)"
      ]
     },
     "execution_count": 7,
     "metadata": {},
     "output_type": "execute_result"
    }
   ],
   "source": [
    "df['object_type'].unique()"
   ]
  },
  {
   "cell_type": "markdown",
   "metadata": {},
   "source": [
    "Проверим однозначность деления всех объектов общественного питания на принадлежность с сетевым. Для этого проверим значения параметра chain.\n",
    "Параметр chain принимает только два значения: да, нет. Следовательно все объекты общественного питания обнозначно разделенны на две группы по принадлежности к сетевым"
   ]
  },
  {
   "cell_type": "code",
   "execution_count": 8,
   "metadata": {},
   "outputs": [
    {
     "data": {
      "text/plain": [
       "array(['нет', 'да'], dtype=object)"
      ]
     },
     "execution_count": 8,
     "metadata": {},
     "output_type": "execute_result"
    }
   ],
   "source": [
    "df['chain'].unique()"
   ]
  },
  {
   "cell_type": "markdown",
   "metadata": {},
   "source": [
    "Для дальнейшем обработки данных нам будет необходимо изучать данные в привязке к адресу нахождения объекта общественного питания. Данные об адресе могут содержать неточности ( из-за человеческого фактора). Адрес является многосоставным и могут быть ошибки при его наборе оператором. Кроме того, в Москве много присоединенных территорий ( поселения, поселки, город Зеленоград, Новая Москва и и т.д.), которые, при необходимости, мы рассмотрим отдельно. Т.е. нам необходимо выбрать только адреса, которые имеют точную привязку к городу Москве, без нахождения на присоединенных административно территориях."
   ]
  },
  {
   "cell_type": "markdown",
   "metadata": {},
   "source": [
    "Если взглянуть на запись адреса в исходном датафрейме, то в общем виде адрес представлен в формате: город Москва, улица ( проспект,...), адрес дома на улице. Преобразуем все адреса именно к такому виду, убрав все адреса присоединенных территорий."
   ]
  },
  {
   "cell_type": "markdown",
   "metadata": {},
   "source": [
    "Сначала определим имеются ли адреса без указания города Москвы. Таких записей оказалась 71. Изменим эти записи, добавив в адрес строку 'город Москва'"
   ]
  },
  {
   "cell_type": "code",
   "execution_count": 9,
   "metadata": {},
   "outputs": [
    {
     "data": {
      "text/plain": [
       "(15284, 6)"
      ]
     },
     "execution_count": 9,
     "metadata": {},
     "output_type": "execute_result"
    }
   ],
   "source": [
    "ss = df.address.apply(lambda x: x.split(',')[0])\n",
    "indx = ss[ss != 'город Москва'].index\n",
    "df.loc[indx, 'address'] = 'город Москва, ' + df.loc[indx, 'address']\n",
    "df.shape"
   ]
  },
  {
   "cell_type": "markdown",
   "metadata": {},
   "source": [
    "Далее разделим адрес на составные части: город Москва, улицы и т.п., адрес на улице. При этом уберем из датафрейма адреса присоединенных территорий. После первичного разделения на 3 части ( город, улица..., адрес на улице) все данные об адресах на присоединенных территориях находятся в столбце 'street'. "
   ]
  },
  {
   "cell_type": "markdown",
   "metadata": {},
   "source": [
    "### Выделение из адреса Города, Улицы и Адреса на улице"
   ]
  },
  {
   "cell_type": "code",
   "execution_count": 10,
   "metadata": {},
   "outputs": [
    {
     "data": {
      "text/html": [
       "<div>\n",
       "<style scoped>\n",
       "    .dataframe tbody tr th:only-of-type {\n",
       "        vertical-align: middle;\n",
       "    }\n",
       "\n",
       "    .dataframe tbody tr th {\n",
       "        vertical-align: top;\n",
       "    }\n",
       "\n",
       "    .dataframe thead th {\n",
       "        text-align: right;\n",
       "    }\n",
       "</style>\n",
       "<table border=\"1\" class=\"dataframe\">\n",
       "  <thead>\n",
       "    <tr style=\"text-align: right;\">\n",
       "      <th></th>\n",
       "      <th>id</th>\n",
       "      <th>object_name</th>\n",
       "      <th>chain</th>\n",
       "      <th>object_type</th>\n",
       "      <th>address</th>\n",
       "      <th>number</th>\n",
       "    </tr>\n",
       "  </thead>\n",
       "  <tbody>\n",
       "    <tr>\n",
       "      <th>0</th>\n",
       "      <td>151635</td>\n",
       "      <td>СМЕТАНА</td>\n",
       "      <td>нет</td>\n",
       "      <td>кафе</td>\n",
       "      <td>[город Москва,  улица Егора Абакумова,  дом 9]</td>\n",
       "      <td>48</td>\n",
       "    </tr>\n",
       "    <tr>\n",
       "      <th>1</th>\n",
       "      <td>77874</td>\n",
       "      <td>Родник</td>\n",
       "      <td>нет</td>\n",
       "      <td>кафе</td>\n",
       "      <td>[город Москва,  улица Талалихина,  дом 2/1,  к...</td>\n",
       "      <td>35</td>\n",
       "    </tr>\n",
       "    <tr>\n",
       "      <th>2</th>\n",
       "      <td>24309</td>\n",
       "      <td>Кафе «Академия»</td>\n",
       "      <td>нет</td>\n",
       "      <td>кафе</td>\n",
       "      <td>[город Москва,  Абельмановская улица,  дом 6]</td>\n",
       "      <td>95</td>\n",
       "    </tr>\n",
       "    <tr>\n",
       "      <th>3</th>\n",
       "      <td>21894</td>\n",
       "      <td>ПИЦЦЕТОРИЯ</td>\n",
       "      <td>да</td>\n",
       "      <td>кафе</td>\n",
       "      <td>[город Москва,  Абрамцевская улица,  дом 1]</td>\n",
       "      <td>40</td>\n",
       "    </tr>\n",
       "    <tr>\n",
       "      <th>4</th>\n",
       "      <td>119365</td>\n",
       "      <td>Кафе «Вишневая метель»</td>\n",
       "      <td>нет</td>\n",
       "      <td>кафе</td>\n",
       "      <td>[город Москва,  Абрамцевская улица,  дом 9,  к...</td>\n",
       "      <td>50</td>\n",
       "    </tr>\n",
       "  </tbody>\n",
       "</table>\n",
       "</div>"
      ],
      "text/plain": [
       "       id             object_name chain object_type  \\\n",
       "0  151635                 СМЕТАНА   нет        кафе   \n",
       "1   77874                  Родник   нет        кафе   \n",
       "2   24309         Кафе «Академия»   нет        кафе   \n",
       "3   21894              ПИЦЦЕТОРИЯ    да        кафе   \n",
       "4  119365  Кафе «Вишневая метель»   нет        кафе   \n",
       "\n",
       "                                             address  number  \n",
       "0     [город Москва,  улица Егора Абакумова,  дом 9]      48  \n",
       "1  [город Москва,  улица Талалихина,  дом 2/1,  к...      35  \n",
       "2      [город Москва,  Абельмановская улица,  дом 6]      95  \n",
       "3        [город Москва,  Абрамцевская улица,  дом 1]      40  \n",
       "4  [город Москва,  Абрамцевская улица,  дом 9,  к...      50  "
      ]
     },
     "execution_count": 10,
     "metadata": {},
     "output_type": "execute_result"
    }
   ],
   "source": [
    "df['address'] = df['address'].apply(lambda x:x.split(','))\n",
    "df.head()"
   ]
  },
  {
   "cell_type": "code",
   "execution_count": 11,
   "metadata": {},
   "outputs": [],
   "source": [
    "df['city'] = df['address'].apply(lambda x: x[0].split()[1])\n",
    "df['street'] = df['address'].apply(lambda x: x[1])\n",
    "df['house'] = df['address'].apply(lambda x: x[2:])"
   ]
  },
  {
   "cell_type": "code",
   "execution_count": 65,
   "metadata": {
    "scrolled": false
   },
   "outputs": [
    {
     "data": {
      "text/html": [
       "<div>\n",
       "<style scoped>\n",
       "    .dataframe tbody tr th:only-of-type {\n",
       "        vertical-align: middle;\n",
       "    }\n",
       "\n",
       "    .dataframe tbody tr th {\n",
       "        vertical-align: top;\n",
       "    }\n",
       "\n",
       "    .dataframe thead th {\n",
       "        text-align: right;\n",
       "    }\n",
       "</style>\n",
       "<table border=\"1\" class=\"dataframe\">\n",
       "  <thead>\n",
       "    <tr style=\"text-align: right;\">\n",
       "      <th></th>\n",
       "      <th>id</th>\n",
       "      <th>object_name</th>\n",
       "      <th>chain</th>\n",
       "      <th>object_type</th>\n",
       "      <th>address</th>\n",
       "      <th>number</th>\n",
       "      <th>city</th>\n",
       "      <th>street</th>\n",
       "      <th>house</th>\n",
       "    </tr>\n",
       "  </thead>\n",
       "  <tbody>\n",
       "    <tr>\n",
       "      <th>0</th>\n",
       "      <td>151635</td>\n",
       "      <td>СМЕТАНА</td>\n",
       "      <td>нет</td>\n",
       "      <td>кафе</td>\n",
       "      <td>[город Москва,  улица Егора Абакумова,  дом 9]</td>\n",
       "      <td>48</td>\n",
       "      <td>Москва</td>\n",
       "      <td>улица Егора Абакумова</td>\n",
       "      <td>[ дом 9]</td>\n",
       "    </tr>\n",
       "  </tbody>\n",
       "</table>\n",
       "</div>"
      ],
      "text/plain": [
       "       id object_name chain object_type  \\\n",
       "0  151635     СМЕТАНА   нет        кафе   \n",
       "\n",
       "                                          address  number    city  \\\n",
       "0  [город Москва,  улица Егора Абакумова,  дом 9]      48  Москва   \n",
       "\n",
       "                   street     house  \n",
       "0   улица Егора Абакумова  [ дом 9]  "
      ]
     },
     "execution_count": 65,
     "metadata": {},
     "output_type": "execute_result"
    }
   ],
   "source": [
    "df.head(1)"
   ]
  },
  {
   "cell_type": "markdown",
   "metadata": {},
   "source": [
    "Выберем из столбца street все адреса присоединенных территорий.\n",
    "Определять принадлежность адреса к присоединенной территории будем по следующему алгоритму: Все улицы, проспекты и т.п. типы \"улиц\" в столбце street начинаются с буквы в нижнем регистре, а их названия начинаются с букв в верхнем регистре ( как имена нарицательные). Выберем список уникальный значений этих 'улиц'. Среди так называемых \"улиц\" присутствуют слова: город ( Зеленоград, Троицк, Московский), деревня, поселение, поселок. Судя по формулировке это отдельная административная единица, которая была присоединена к Москве. \n",
    "Уберем из датафрейма все записи с адресами в этих \"городах, деревнях, поселениях, поселках.\n",
    "После удаления адресов присоединенных территорий в датафрейме осталось 14461 записей. Таком образом после удаления дубликатов и адресов присоединенных территорий количество записей уменьшилось на 905 единиц ( около 6% )."
   ]
  },
  {
   "cell_type": "code",
   "execution_count": 13,
   "metadata": {},
   "outputs": [
    {
     "data": {
      "text/plain": [
       "{'1-й',\n",
       " '1-я',\n",
       " '10-летия',\n",
       " '104-й',\n",
       " '11-я',\n",
       " '113а',\n",
       " '12-й',\n",
       " '12-я',\n",
       " '13-я',\n",
       " '14-я',\n",
       " '15-я',\n",
       " '16-я',\n",
       " '17-й',\n",
       " '19-й',\n",
       " '2-й',\n",
       " '2-я',\n",
       " '26-й',\n",
       " '26-ти',\n",
       " '28-й',\n",
       " '3-й',\n",
       " '3-я',\n",
       " '30-й',\n",
       " '31-й',\n",
       " '33-й',\n",
       " '34-й',\n",
       " '38-й',\n",
       " '4-й',\n",
       " '4-я',\n",
       " '42-й',\n",
       " '5-й',\n",
       " '5-я',\n",
       " '56-й',\n",
       " '6-й',\n",
       " '6-я',\n",
       " '60-летия',\n",
       " '65-й',\n",
       " '67-й',\n",
       " '7-й',\n",
       " '7-я',\n",
       " '73-й',\n",
       " '74-й',\n",
       " '78-й',\n",
       " '8-й',\n",
       " '8-я',\n",
       " '80-й',\n",
       " '800-летия',\n",
       " '82-й',\n",
       " '87-й',\n",
       " '9-я',\n",
       " 'аллея',\n",
       " 'бульвар',\n",
       " 'город',\n",
       " 'деревня',\n",
       " 'и',\n",
       " 'квартал',\n",
       " 'километр',\n",
       " 'лет',\n",
       " 'линия',\n",
       " 'микрорайон',\n",
       " 'набережная',\n",
       " 'переулок',\n",
       " 'площадь',\n",
       " 'поселение',\n",
       " 'посёлок',\n",
       " 'проезд',\n",
       " 'проектируемый',\n",
       " 'просек',\n",
       " 'проспект',\n",
       " 'территория',\n",
       " 'тупик',\n",
       " 'улица',\n",
       " 'шоссе'}"
      ]
     },
     "execution_count": 13,
     "metadata": {},
     "output_type": "execute_result"
    }
   ],
   "source": [
    "aa = df.street.apply(lambda x: x.split(' '))\n",
    "set([x  for row in aa.values.tolist() for x in row if x.islower()])"
   ]
  },
  {
   "cell_type": "code",
   "execution_count": 14,
   "metadata": {},
   "outputs": [],
   "source": [
    "out_moscow = ['город','поселение','деревня','село']"
   ]
  },
  {
   "cell_type": "code",
   "execution_count": 15,
   "metadata": {},
   "outputs": [
    {
     "name": "stdout",
     "output_type": "stream",
     "text": [
      "Удалили из датафрейма адреса с признаком - город\n",
      "Удалили из датафрейма адреса с признаком - поселение\n",
      "Удалили из датафрейма адреса с признаком - деревня\n",
      "Удалили из датафрейма адреса с признаком - село\n"
     ]
    }
   ],
   "source": [
    "out_moscow = ['город','поселение','деревня','село']\n",
    "def value(s, name):\n",
    "    return name in s.split()\n",
    "\n",
    "for name in out_moscow:\n",
    "    ss = df.street\n",
    "    indx = ss[ss.apply(lambda x: value(x, name))].index\n",
    "    df.drop(index = indx, inplace=True)\n",
    "    print(f\"Удалили из датафрейма адреса с признаком - {name}\")\n"
   ]
  },
  {
   "cell_type": "markdown",
   "metadata": {},
   "source": [
    "### Распределение объектов общественного питания по типам"
   ]
  },
  {
   "cell_type": "code",
   "execution_count": 66,
   "metadata": {},
   "outputs": [
    {
     "data": {
      "image/png": "[encoded data removed]",
      "text/plain": [
       "<Figure size 432x288 with 1 Axes>"
      ]
     },
     "metadata": {
      "needs_background": "light"
     },
     "output_type": "display_data"
    }
   ],
   "source": [
    "s = df.groupby('object_type').aggregate({'id':'count'}).reset_index()\n",
    "plt.bar(s['object_type'], s['id'])\n",
    "plt.xticks(rotation = 45)\n",
    "plt.show()\n"
   ]
  },
  {
   "cell_type": "markdown",
   "metadata": {},
   "source": [
    "наибольшее количество объектов общественного питания имеют категорию Кафе"
   ]
  },
  {
   "cell_type": "markdown",
   "metadata": {},
   "source": [
    "### Соотношение между количеством сетевых объектов и не сетевых"
   ]
  },
  {
   "cell_type": "code",
   "execution_count": 17,
   "metadata": {},
   "outputs": [],
   "source": [
    "s = df.groupby('chain').aggregate({'id':'count'}).reset_index()\n",
    "s = s.rename(columns = {'chain':'Сетевой объект', 'id':'Количество'})"
   ]
  },
  {
   "cell_type": "code",
   "execution_count": 18,
   "metadata": {
    "scrolled": true
   },
   "outputs": [
    {
     "data": {
      "image/png": "[encoded data removed]",
      "text/plain": [
       "<Figure size 432x288 with 1 Axes>"
      ]
     },
     "metadata": {
      "needs_background": "light"
     },
     "output_type": "display_data"
    }
   ],
   "source": [
    "sns.barplot(data = s, x = s['Сетевой объект'], y = s['Количество'])\n",
    "plt.show()"
   ]
  },
  {
   "cell_type": "code",
   "execution_count": 19,
   "metadata": {},
   "outputs": [
    {
     "name": "stdout",
     "output_type": "stream",
     "text": [
      "Сетевые объекты общественного питания составляют около 19.51 процентов\n"
     ]
    }
   ],
   "source": [
    "\n",
    "print(f\"Сетевые объекты общественного питания составляют около {s[s['Сетевой объект'] == 'да']['Количество'].sum()/s['Количество'].sum()*100:.2f} процентов\")"
   ]
  },
  {
   "cell_type": "markdown",
   "metadata": {},
   "source": [
    "### Определение какому типу объекта общественного питания характерно сетевое распространение"
   ]
  },
  {
   "cell_type": "code",
   "execution_count": 68,
   "metadata": {},
   "outputs": [],
   "source": [
    "s = df.groupby(['object_type', 'chain']).aggregate({'id':'count'})"
   ]
  },
  {
   "cell_type": "code",
   "execution_count": 69,
   "metadata": {},
   "outputs": [],
   "source": [
    "s.reset_index(inplace = True)\n",
    "s = s.rename(columns = {'object_type':'Тип объекта общественного питания', 'id':'Количество'})"
   ]
  },
  {
   "cell_type": "code",
   "execution_count": 70,
   "metadata": {},
   "outputs": [
    {
     "data": {
      "image/png": "[encoded data removed]",
      "text/plain": [
       "<Figure size 432x288 with 1 Axes>"
      ]
     },
     "metadata": {
      "needs_background": "light"
     },
     "output_type": "display_data"
    }
   ],
   "source": [
    "sns.barplot(data=s, x = 'Тип объекта общественного питания', y = 'Количество', hue = 'chain')\n",
    "plt.xticks(rotation = 45)\n",
    "plt.show()"
   ]
  },
  {
   "cell_type": "code",
   "execution_count": 23,
   "metadata": {},
   "outputs": [],
   "source": [
    "type_chain = pd.pivot_table(s, columns='chain', values ='Количество', index ='Тип объекта общественного питания')"
   ]
  },
  {
   "cell_type": "code",
   "execution_count": 24,
   "metadata": {},
   "outputs": [],
   "source": [
    "type_chain['Процент'] =round(type_chain['да']*100/(type_chain['нет']+type_chain['да']),2)"
   ]
  },
  {
   "cell_type": "code",
   "execution_count": 25,
   "metadata": {},
   "outputs": [
    {
     "data": {
      "text/html": [
       "<div>\n",
       "<style scoped>\n",
       "    .dataframe tbody tr th:only-of-type {\n",
       "        vertical-align: middle;\n",
       "    }\n",
       "\n",
       "    .dataframe tbody tr th {\n",
       "        vertical-align: top;\n",
       "    }\n",
       "\n",
       "    .dataframe thead th {\n",
       "        text-align: right;\n",
       "    }\n",
       "</style>\n",
       "<table border=\"1\" class=\"dataframe\">\n",
       "  <thead>\n",
       "    <tr style=\"text-align: right;\">\n",
       "      <th>chain</th>\n",
       "      <th>да</th>\n",
       "      <th>нет</th>\n",
       "      <th>Процент</th>\n",
       "    </tr>\n",
       "    <tr>\n",
       "      <th>Тип объекта общественного питания</th>\n",
       "      <th></th>\n",
       "      <th></th>\n",
       "      <th></th>\n",
       "    </tr>\n",
       "  </thead>\n",
       "  <tbody>\n",
       "    <tr>\n",
       "      <th>бар</th>\n",
       "      <td>36</td>\n",
       "      <td>790</td>\n",
       "      <td>4.36</td>\n",
       "    </tr>\n",
       "    <tr>\n",
       "      <th>буфет</th>\n",
       "      <td>11</td>\n",
       "      <td>547</td>\n",
       "      <td>1.97</td>\n",
       "    </tr>\n",
       "    <tr>\n",
       "      <th>закусочная</th>\n",
       "      <td>54</td>\n",
       "      <td>266</td>\n",
       "      <td>16.88</td>\n",
       "    </tr>\n",
       "    <tr>\n",
       "      <th>кафе</th>\n",
       "      <td>1340</td>\n",
       "      <td>4362</td>\n",
       "      <td>23.50</td>\n",
       "    </tr>\n",
       "    <tr>\n",
       "      <th>кафетерий</th>\n",
       "      <td>51</td>\n",
       "      <td>314</td>\n",
       "      <td>13.97</td>\n",
       "    </tr>\n",
       "    <tr>\n",
       "      <th>магазин (отдел кулинарии)</th>\n",
       "      <td>77</td>\n",
       "      <td>174</td>\n",
       "      <td>30.68</td>\n",
       "    </tr>\n",
       "    <tr>\n",
       "      <th>предприятие быстрого обслуживания</th>\n",
       "      <td>734</td>\n",
       "      <td>1065</td>\n",
       "      <td>40.80</td>\n",
       "    </tr>\n",
       "    <tr>\n",
       "      <th>ресторан</th>\n",
       "      <td>516</td>\n",
       "      <td>1673</td>\n",
       "      <td>23.57</td>\n",
       "    </tr>\n",
       "    <tr>\n",
       "      <th>столовая</th>\n",
       "      <td>3</td>\n",
       "      <td>2448</td>\n",
       "      <td>0.12</td>\n",
       "    </tr>\n",
       "  </tbody>\n",
       "</table>\n",
       "</div>"
      ],
      "text/plain": [
       "chain                                да   нет  Процент\n",
       "Тип объекта общественного питания                     \n",
       "бар                                  36   790     4.36\n",
       "буфет                                11   547     1.97\n",
       "закусочная                           54   266    16.88\n",
       "кафе                               1340  4362    23.50\n",
       "кафетерий                            51   314    13.97\n",
       "магазин (отдел кулинарии)            77   174    30.68\n",
       "предприятие быстрого обслуживания   734  1065    40.80\n",
       "ресторан                            516  1673    23.57\n",
       "столовая                              3  2448     0.12"
      ]
     },
     "execution_count": 25,
     "metadata": {},
     "output_type": "execute_result"
    }
   ],
   "source": [
    "type_chain"
   ]
  },
  {
   "cell_type": "markdown",
   "metadata": {},
   "source": [
    "Наибольший процент объектов общественного питания, принадлежащих  сетевым, среди предприятий быстрого обслуживания. В абсолютном выражении наибольшее количество объектов, явлющихся сетевыми, находятся среди кафе. Практически отсутствуют сетевые объекты общественного питания среди столовых и буфетов."
   ]
  },
  {
   "cell_type": "markdown",
   "metadata": {},
   "source": [
    "### Много малых - мало больших"
   ]
  },
  {
   "cell_type": "markdown",
   "metadata": {},
   "source": [
    "Для введения однозначности понятия \"небольшое количество посадочных мест\" будет считать граничным значениям величину медианы значений количества посадочных мест"
   ]
  },
  {
   "cell_type": "code",
   "execution_count": 26,
   "metadata": {},
   "outputs": [
    {
     "data": {
      "text/html": [
       "<div>\n",
       "<style scoped>\n",
       "    .dataframe tbody tr th:only-of-type {\n",
       "        vertical-align: middle;\n",
       "    }\n",
       "\n",
       "    .dataframe tbody tr th {\n",
       "        vertical-align: top;\n",
       "    }\n",
       "\n",
       "    .dataframe thead th {\n",
       "        text-align: right;\n",
       "    }\n",
       "</style>\n",
       "<table border=\"1\" class=\"dataframe\">\n",
       "  <thead>\n",
       "    <tr style=\"text-align: right;\">\n",
       "      <th></th>\n",
       "      <th>Посадочные места</th>\n",
       "      <th>Количество</th>\n",
       "    </tr>\n",
       "  </thead>\n",
       "  <tbody>\n",
       "    <tr>\n",
       "      <th>0</th>\n",
       "      <td>0</td>\n",
       "      <td>234</td>\n",
       "    </tr>\n",
       "    <tr>\n",
       "      <th>1</th>\n",
       "      <td>1</td>\n",
       "      <td>15</td>\n",
       "    </tr>\n",
       "    <tr>\n",
       "      <th>2</th>\n",
       "      <td>2</td>\n",
       "      <td>29</td>\n",
       "    </tr>\n",
       "    <tr>\n",
       "      <th>3</th>\n",
       "      <td>3</td>\n",
       "      <td>16</td>\n",
       "    </tr>\n",
       "    <tr>\n",
       "      <th>4</th>\n",
       "      <td>4</td>\n",
       "      <td>42</td>\n",
       "    </tr>\n",
       "  </tbody>\n",
       "</table>\n",
       "</div>"
      ],
      "text/plain": [
       "   Посадочные места  Количество\n",
       "0                 0         234\n",
       "1                 1          15\n",
       "2                 2          29\n",
       "3                 3          16\n",
       "4                 4          42"
      ]
     },
     "execution_count": 26,
     "metadata": {},
     "output_type": "execute_result"
    }
   ],
   "source": [
    "s_chain = df[df['chain'] == 'да'].groupby('number').aggregate({'id':'count'})\n",
    "s_chain.reset_index(inplace=True)\n",
    "s_chain.rename(columns = {'id':'Количество','number':'Посадочные места'}, inplace = True)\n",
    "s_chain.head()"
   ]
  },
  {
   "cell_type": "code",
   "execution_count": 27,
   "metadata": {},
   "outputs": [
    {
     "name": "stdout",
     "output_type": "stream",
     "text": [
      "Медианное значение количества посадочных мест - 99.0\n"
     ]
    }
   ],
   "source": [
    "number_median = s_chain['Посадочные места'].median()\n",
    "print(f\"Медианное значение количества посадочных мест - {number_median}\")"
   ]
  },
  {
   "cell_type": "code",
   "execution_count": 28,
   "metadata": {},
   "outputs": [
    {
     "name": "stdout",
     "output_type": "stream",
     "text": [
      "Объектов с числом посадочных мест больше медианного значения 382\n"
     ]
    }
   ],
   "source": [
    "print(f\"Объектов с числом посадочных мест больше медианного значения \"\n",
    "      f\"{s_chain[s_chain['Посадочные места'] > number_median]['Количество'].sum()}\")"
   ]
  },
  {
   "cell_type": "code",
   "execution_count": 29,
   "metadata": {},
   "outputs": [
    {
     "name": "stdout",
     "output_type": "stream",
     "text": [
      "Объектов с числом посадочных мест меньше медианного значения 2433\n"
     ]
    }
   ],
   "source": [
    "print(f\"Объектов с числом посадочных мест меньше медианного значения \"\n",
    "      f\"{s_chain[s_chain['Посадочные места'] < number_median]['Количество'].sum()}\")"
   ]
  },
  {
   "cell_type": "markdown",
   "metadata": {},
   "source": [
    "Значение 99 может показаться большим для понятия \"небольшое количество посадочных мест\". Сдвинем границы: небольшое количество - меньше 0.5 медианы, большое количество 1.5 медианы"
   ]
  },
  {
   "cell_type": "code",
   "execution_count": 30,
   "metadata": {},
   "outputs": [
    {
     "name": "stdout",
     "output_type": "stream",
     "text": [
      "Объектов с числом посадочных мест больше чем 3/2 медианного значения 200\n"
     ]
    }
   ],
   "source": [
    "print(f\"Объектов с числом посадочных мест больше чем 3/2 медианного значения \"\n",
    "      f\"{s_chain[s_chain['Посадочные места'] > 1.5*number_median]['Количество'].sum()}\")"
   ]
  },
  {
   "cell_type": "code",
   "execution_count": 31,
   "metadata": {},
   "outputs": [
    {
     "name": "stdout",
     "output_type": "stream",
     "text": [
      "Объектов с числом посадочных мест меньше 1/2 медианного значения 1702\n"
     ]
    }
   ],
   "source": [
    "print(f\"Объектов с числом посадочных мест меньше 1/2 медианного значения \"\n",
    "      f\"{s_chain[s_chain['Посадочные места'] < 0.5*number_median]['Количество'].sum()}\")"
   ]
  },
  {
   "cell_type": "markdown",
   "metadata": {},
   "source": [
    "Строим график распределения числа объектов по количеству посадочных мест\n"
   ]
  },
  {
   "cell_type": "code",
   "execution_count": 32,
   "metadata": {},
   "outputs": [
    {
     "data": {
      "image/png": "[encoded data removed]",
      "text/plain": [
       "<Figure size 1872x720 with 1 Axes>"
      ]
     },
     "metadata": {
      "needs_background": "light"
     },
     "output_type": "display_data"
    }
   ],
   "source": [
    "plt.figure(figsize=(26,10))\n",
    "plt.bar(s_chain['Посадочные места'], s_chain['Количество'], color = 'green', label = 'Сетевые')\n",
    "plt.legend()\n",
    "plt.show()"
   ]
  },
  {
   "cell_type": "markdown",
   "metadata": {},
   "source": [
    "График подтверждает вывод о том, что для сетей количество заведений с небольшим числом посадочных мест в каждом больше чем количество заведений с большим количеством посадочных мест\n",
    "Это объяснимо, т.к. масштабируемость сетевых заведений характерно для объектов массового потокового посещения. А это заведения с небольшим числом посадочных мест"
   ]
  },
  {
   "cell_type": "markdown",
   "metadata": {},
   "source": [
    "### Среднее количество посадочных мест"
   ]
  },
  {
   "cell_type": "code",
   "execution_count": 33,
   "metadata": {},
   "outputs": [
    {
     "data": {
      "text/html": [
       "<div>\n",
       "<style scoped>\n",
       "    .dataframe tbody tr th:only-of-type {\n",
       "        vertical-align: middle;\n",
       "    }\n",
       "\n",
       "    .dataframe tbody tr th {\n",
       "        vertical-align: top;\n",
       "    }\n",
       "\n",
       "    .dataframe thead th {\n",
       "        text-align: right;\n",
       "    }\n",
       "</style>\n",
       "<table border=\"1\" class=\"dataframe\">\n",
       "  <thead>\n",
       "    <tr style=\"text-align: right;\">\n",
       "      <th></th>\n",
       "      <th>Тип объекта питания</th>\n",
       "      <th>Среднее количество посадочных мест</th>\n",
       "    </tr>\n",
       "  </thead>\n",
       "  <tbody>\n",
       "    <tr>\n",
       "      <th>0</th>\n",
       "      <td>бар</td>\n",
       "      <td>43.891041</td>\n",
       "    </tr>\n",
       "    <tr>\n",
       "      <th>1</th>\n",
       "      <td>буфет</td>\n",
       "      <td>52.172043</td>\n",
       "    </tr>\n",
       "    <tr>\n",
       "      <th>2</th>\n",
       "      <td>закусочная</td>\n",
       "      <td>8.121875</td>\n",
       "    </tr>\n",
       "    <tr>\n",
       "      <th>3</th>\n",
       "      <td>кафе</td>\n",
       "      <td>40.720624</td>\n",
       "    </tr>\n",
       "    <tr>\n",
       "      <th>4</th>\n",
       "      <td>кафетерий</td>\n",
       "      <td>9.328767</td>\n",
       "    </tr>\n",
       "    <tr>\n",
       "      <th>5</th>\n",
       "      <td>магазин (отдел кулинарии)</td>\n",
       "      <td>6.007968</td>\n",
       "    </tr>\n",
       "    <tr>\n",
       "      <th>6</th>\n",
       "      <td>предприятие быстрого обслуживания</td>\n",
       "      <td>20.918844</td>\n",
       "    </tr>\n",
       "    <tr>\n",
       "      <th>7</th>\n",
       "      <td>ресторан</td>\n",
       "      <td>97.802193</td>\n",
       "    </tr>\n",
       "    <tr>\n",
       "      <th>8</th>\n",
       "      <td>столовая</td>\n",
       "      <td>130.404325</td>\n",
       "    </tr>\n",
       "  </tbody>\n",
       "</table>\n",
       "</div>"
      ],
      "text/plain": [
       "                 Тип объекта питания  Среднее количество посадочных мест\n",
       "0                                бар                           43.891041\n",
       "1                              буфет                           52.172043\n",
       "2                         закусочная                            8.121875\n",
       "3                               кафе                           40.720624\n",
       "4                          кафетерий                            9.328767\n",
       "5          магазин (отдел кулинарии)                            6.007968\n",
       "6  предприятие быстрого обслуживания                           20.918844\n",
       "7                           ресторан                           97.802193\n",
       "8                           столовая                          130.404325"
      ]
     },
     "execution_count": 33,
     "metadata": {},
     "output_type": "execute_result"
    }
   ],
   "source": [
    "s = df.groupby('object_type').aggregate({'number':'mean'})\n",
    "s.reset_index(inplace=True)\n",
    "s.rename(columns = {'object_type':'Тип объекта питания', 'number':\\\n",
    "                    'Среднее количество посадочных мест'})"
   ]
  },
  {
   "cell_type": "code",
   "execution_count": 34,
   "metadata": {},
   "outputs": [
    {
     "data": {
      "image/png": "[encoded data removed]",
      "text/plain": [
       "<Figure size 432x288 with 1 Axes>"
      ]
     },
     "metadata": {
      "needs_background": "light"
     },
     "output_type": "display_data"
    }
   ],
   "source": [
    "plt.bar(s['object_type'], s['number'])\n",
    "plt.xticks(rotation = 90)\n",
    "plt.title('Среднее количество посадочных мест')\n",
    "plt.show()"
   ]
  },
  {
   "cell_type": "markdown",
   "metadata": {},
   "source": [
    "Наибольшее среднее количество посадочных мест в заведения типа - столовая"
   ]
  },
  {
   "cell_type": "markdown",
   "metadata": {},
   "source": [
    "### Улицы"
   ]
  },
  {
   "cell_type": "code",
   "execution_count": 35,
   "metadata": {},
   "outputs": [
    {
     "name": "stdout",
     "output_type": "stream",
     "text": [
      "street                          проспект Мира\n",
      "Количество объектов питания               204\n",
      "Name: 1382, dtype: object\n"
     ]
    },
    {
     "data": {
      "image/png": "[encoded data removed]",
      "text/plain": [
       "<Figure size 432x288 with 1 Axes>"
      ]
     },
     "metadata": {
      "needs_background": "light"
     },
     "output_type": "display_data"
    }
   ],
   "source": [
    "street = df.groupby('street').aggregate({'id':'count'})\n",
    "street.reset_index(inplace = True)\n",
    "street.rename(columns ={'id':'Количество объектов питания'}, inplace = True)\n",
    "street.sort_values('Количество объектов питания', ascending=False, inplace = True)\n",
    "print(street.iloc[0])\n",
    "plt.bar(street.iloc[:10,:]['street'], street.iloc[:10,:]['Количество объектов питания'])\n",
    "plt.xticks(rotation = 90)\n",
    "plt.title(\"Топ-10 улиц по количеству объектов питания\")\n",
    "plt.show()"
   ]
  },
  {
   "cell_type": "code",
   "execution_count": null,
   "metadata": {},
   "outputs": [],
   "source": []
  },
  {
   "cell_type": "markdown",
   "metadata": {},
   "source": [
    "Наибольшее количество объектов общественного питания -204   находится на проспекте Мира"
   ]
  },
  {
   "cell_type": "markdown",
   "metadata": {},
   "source": [
    "### Улицы с домашним питанием"
   ]
  },
  {
   "cell_type": "code",
   "execution_count": 36,
   "metadata": {},
   "outputs": [
    {
     "name": "stdout",
     "output_type": "stream",
     "text": [
      "Количество улиц, на которых расположен всего один объект питания - 540\n"
     ]
    }
   ],
   "source": [
    "s_one = street[street['Количество объектов питания'] == 1]\n",
    "print(f\"Количество улиц, на которых расположен всего один объект питания - \"\n",
    "      f\"{s_one['Количество объектов питания'].count()}\")"
   ]
  },
  {
   "cell_type": "code",
   "execution_count": 37,
   "metadata": {},
   "outputs": [
    {
     "name": "stdout",
     "output_type": "stream",
     "text": [
      "Среди объектов питания, которые являются единственными на улице больше всего кафе (272 единиц)\n"
     ]
    }
   ],
   "source": [
    "s_one_object = df.iloc[s_one.index,:].groupby('object_type').aggregate({'id':'count'})\n",
    "max_amount = s_one_object.max().values[0]\n",
    "print(f\"Среди объектов питания, которые являются единственными на улице больше всего \"\n",
    "      f\"{s_one_object[s_one_object['id'] == max_amount].index[0]} ({ max_amount} единиц)\")"
   ]
  },
  {
   "cell_type": "markdown",
   "metadata": {},
   "source": [
    "### Улицы с большим количеством объектов питания"
   ]
  },
  {
   "cell_type": "code",
   "execution_count": 38,
   "metadata": {},
   "outputs": [
    {
     "name": "stdout",
     "output_type": "stream",
     "text": [
      "10 улиц с наибольших количеством объектов питания:\n",
      " -  проспект Мира\n",
      " -  Профсоюзная улица\n",
      " -  Ленинградский проспект\n",
      " -  Пресненская набережная\n",
      " -  Варшавское шоссе\n",
      " -  Ленинский проспект\n",
      " -  проспект Вернадского\n",
      " -  Кутузовский проспект\n",
      " -  Каширское шоссе\n",
      " -  Кировоградская улица\n"
     ]
    }
   ],
   "source": [
    "street10 = street.iloc[:10,:]\n",
    "print('10 улиц с наибольших количеством объектов питания:')\n",
    "for name in street10['street'].values:\n",
    "    print(f\" - {name}\")"
   ]
  },
  {
   "cell_type": "markdown",
   "metadata": {},
   "source": [
    "#### Для каждой улицы определим количество посадочных мест с разбивкой по объектам питания"
   ]
  },
  {
   "cell_type": "code",
   "execution_count": 39,
   "metadata": {},
   "outputs": [
    {
     "data": {
      "text/html": [
       "<div>\n",
       "<style scoped>\n",
       "    .dataframe tbody tr th:only-of-type {\n",
       "        vertical-align: middle;\n",
       "    }\n",
       "\n",
       "    .dataframe tbody tr th {\n",
       "        vertical-align: top;\n",
       "    }\n",
       "\n",
       "    .dataframe thead th {\n",
       "        text-align: right;\n",
       "    }\n",
       "</style>\n",
       "<table border=\"1\" class=\"dataframe\">\n",
       "  <thead>\n",
       "    <tr style=\"text-align: right;\">\n",
       "      <th></th>\n",
       "      <th>street</th>\n",
       "      <th>object_type</th>\n",
       "      <th>number</th>\n",
       "    </tr>\n",
       "  </thead>\n",
       "  <tbody>\n",
       "    <tr>\n",
       "      <th>0</th>\n",
       "      <td>1-й Автозаводский проезд</td>\n",
       "      <td>кафе</td>\n",
       "      <td>20</td>\n",
       "    </tr>\n",
       "    <tr>\n",
       "      <th>1</th>\n",
       "      <td>1-й Автозаводский проезд</td>\n",
       "      <td>кафетерий</td>\n",
       "      <td>4</td>\n",
       "    </tr>\n",
       "    <tr>\n",
       "      <th>2</th>\n",
       "      <td>1-й Автозаводский проезд</td>\n",
       "      <td>ресторан</td>\n",
       "      <td>90</td>\n",
       "    </tr>\n",
       "    <tr>\n",
       "      <th>3</th>\n",
       "      <td>1-й Амбулаторный проезд</td>\n",
       "      <td>столовая</td>\n",
       "      <td>140</td>\n",
       "    </tr>\n",
       "    <tr>\n",
       "      <th>4</th>\n",
       "      <td>1-й Балтийский переулок</td>\n",
       "      <td>ресторан</td>\n",
       "      <td>60</td>\n",
       "    </tr>\n",
       "    <tr>\n",
       "      <th>...</th>\n",
       "      <td>...</td>\n",
       "      <td>...</td>\n",
       "      <td>...</td>\n",
       "    </tr>\n",
       "    <tr>\n",
       "      <th>4753</th>\n",
       "      <td>шоссе Энтузиастов</td>\n",
       "      <td>кафетерий</td>\n",
       "      <td>38</td>\n",
       "    </tr>\n",
       "    <tr>\n",
       "      <th>4754</th>\n",
       "      <td>шоссе Энтузиастов</td>\n",
       "      <td>магазин (отдел кулинарии)</td>\n",
       "      <td>6</td>\n",
       "    </tr>\n",
       "    <tr>\n",
       "      <th>4755</th>\n",
       "      <td>шоссе Энтузиастов</td>\n",
       "      <td>предприятие быстрого обслуживания</td>\n",
       "      <td>127</td>\n",
       "    </tr>\n",
       "    <tr>\n",
       "      <th>4756</th>\n",
       "      <td>шоссе Энтузиастов</td>\n",
       "      <td>ресторан</td>\n",
       "      <td>786</td>\n",
       "    </tr>\n",
       "    <tr>\n",
       "      <th>4757</th>\n",
       "      <td>шоссе Энтузиастов</td>\n",
       "      <td>столовая</td>\n",
       "      <td>1276</td>\n",
       "    </tr>\n",
       "  </tbody>\n",
       "</table>\n",
       "<p>4758 rows × 3 columns</p>\n",
       "</div>"
      ],
      "text/plain": [
       "                         street                        object_type  number\n",
       "0      1-й Автозаводский проезд                               кафе      20\n",
       "1      1-й Автозаводский проезд                          кафетерий       4\n",
       "2      1-й Автозаводский проезд                           ресторан      90\n",
       "3       1-й Амбулаторный проезд                           столовая     140\n",
       "4       1-й Балтийский переулок                           ресторан      60\n",
       "...                         ...                                ...     ...\n",
       "4753          шоссе Энтузиастов                          кафетерий      38\n",
       "4754          шоссе Энтузиастов          магазин (отдел кулинарии)       6\n",
       "4755          шоссе Энтузиастов  предприятие быстрого обслуживания     127\n",
       "4756          шоссе Энтузиастов                           ресторан     786\n",
       "4757          шоссе Энтузиастов                           столовая    1276\n",
       "\n",
       "[4758 rows x 3 columns]"
      ]
     },
     "execution_count": 39,
     "metadata": {},
     "output_type": "execute_result"
    }
   ],
   "source": [
    "street_number = df.groupby(['street', 'object_type']).aggregate({'number':'sum'})\n",
    "street_number.reset_index(inplace = True)\n",
    "street_number"
   ]
  },
  {
   "cell_type": "markdown",
   "metadata": {},
   "source": [
    "#### Выбираем только данные для ТОП -10 улиц"
   ]
  },
  {
   "cell_type": "code",
   "execution_count": 40,
   "metadata": {},
   "outputs": [],
   "source": [
    "street_number10 = street_number.loc[street_number['street'].isin(street10['street'].values)]"
   ]
  },
  {
   "cell_type": "code",
   "execution_count": 41,
   "metadata": {},
   "outputs": [
    {
     "data": {
      "image/png": "[encoded data removed]",
      "text/plain": [
       "<Figure size 1872x576 with 1 Axes>"
      ]
     },
     "metadata": {
      "needs_background": "light"
     },
     "output_type": "display_data"
    }
   ],
   "source": [
    "plt.figure(figsize=(26,8))\n",
    "sns.barplot(data = street_number10, x = 'object_type', y = 'number', hue = 'street')\n",
    "plt.legend()\n",
    "plt.xticks(rotation = 90, fontsize = 20);"
   ]
  },
  {
   "cell_type": "markdown",
   "metadata": {},
   "source": [
    "На графике видно что среди выбранных 10 улиц наибольшее количество объектов питания наблюдается среди кафе, ресторанов и столовых"
   ]
  },
  {
   "cell_type": "markdown",
   "metadata": {},
   "source": [
    "### Гипотеза о равенстве количества посадочных мест в заведениях сетевого и не сетевого типа"
   ]
  },
  {
   "cell_type": "markdown",
   "metadata": {},
   "source": [
    "Гипотеза H0: среднее количество посадочных мест для одного типа объекта питания не зависит от сетевого типа \n",
    "\n",
    "Гипотеза H1: среднее количество посадочных мест для одного типа объекта питания определется принадлежностью к сетевому типу "
   ]
  },
  {
   "cell_type": "markdown",
   "metadata": {},
   "source": [
    "Формируем наборы значений количества посадочных мест для объектов питания в двух группах (сетевые и несетевые)\n"
   ]
  },
  {
   "cell_type": "code",
   "execution_count": 42,
   "metadata": {},
   "outputs": [],
   "source": [
    "chain_true = df[df['chain'] == 'да'][['object_type', 'number']]\n",
    "chain_false = df[df['chain'] == 'нет'][['object_type', 'number']]"
   ]
  },
  {
   "cell_type": "markdown",
   "metadata": {},
   "source": [
    "Для проверки гипотезы ограничим значения количества посадочных мест в интервале (0.01, 0.99) квантилей. Т.е. уберем предельно крайние значения"
   ]
  },
  {
   "cell_type": "code",
   "execution_count": 54,
   "metadata": {},
   "outputs": [
    {
     "data": {
      "text/plain": [
       "(280.0, 220.0)"
      ]
     },
     "execution_count": 54,
     "metadata": {},
     "output_type": "execute_result"
    }
   ],
   "source": [
    "f_qwan = chain_false['number'].quantile(0.99)\n",
    "t_qwan = chain_true['number'].quantile(0.99)\n",
    "f_qwan, t_qwan"
   ]
  },
  {
   "cell_type": "code",
   "execution_count": 56,
   "metadata": {},
   "outputs": [],
   "source": [
    "indx = chain_false[chain_false['number'] > f_qwan].index\n",
    "chain_false.drop(index=indx, inplace=True)"
   ]
  },
  {
   "cell_type": "code",
   "execution_count": 57,
   "metadata": {},
   "outputs": [],
   "source": [
    "indx = chain_true[chain_true['number'] > t_qwan].index\n",
    "chain_true.drop(index=indx, inplace=True)"
   ]
  },
  {
   "cell_type": "code",
   "execution_count": 59,
   "metadata": {},
   "outputs": [
    {
     "data": {
      "text/plain": [
       "1"
      ]
     },
     "execution_count": 59,
     "metadata": {},
     "output_type": "execute_result"
    }
   ],
   "source": [
    "chain_false['number'].min()"
   ]
  },
  {
   "cell_type": "code",
   "execution_count": 47,
   "metadata": {},
   "outputs": [
    {
     "data": {
      "text/plain": [
       "{'бар',\n",
       " 'буфет',\n",
       " 'закусочная',\n",
       " 'кафе',\n",
       " 'кафетерий',\n",
       " 'магазин (отдел кулинарии)',\n",
       " 'предприятие быстрого обслуживания',\n",
       " 'ресторан',\n",
       " 'столовая'}"
      ]
     },
     "execution_count": 47,
     "metadata": {},
     "output_type": "execute_result"
    }
   ],
   "source": [
    "set( chain_false['object_type'].values)"
   ]
  },
  {
   "cell_type": "markdown",
   "metadata": {},
   "source": [
    "Анализ графиков распределения количества посадочных мест для отдельных типов объектов питания показал что распеделение количества посадочных мест не соответствует нормальному распределению. Поэтому для проверки гипотезы о независимости  числа посадочных от принадлежности к сетевым объекта будет применяться U - критерий Манна-Уитни. Уровень значимости p-value примем равным 0.05"
   ]
  },
  {
   "cell_type": "markdown",
   "metadata": {},
   "source": [
    "Проверять гипотезу будет отдельно для каждого типа обьъекта питания"
   ]
  },
  {
   "cell_type": "code",
   "execution_count": 60,
   "metadata": {},
   "outputs": [
    {
     "name": "stdout",
     "output_type": "stream",
     "text": [
      "\n",
      "Типы объектов питания,для которых не отвергается гипотеза о независимости среднего количества\n",
      "посадочных мест от принадлежности к сетевому типу:\n",
      " - кафетерий : ( u-статистика 4927.500 p-value 0.058)\n",
      " - буфет : ( u-статистика 770.500 p-value 0.902)\n",
      " - бар : ( u-статистика 15640.500 p-value 0.083)\n",
      " - столовая : ( u-статистика 3538.000 p-value 0.940)\n",
      "\n",
      "Типы объектов питания,для которых не подтверждается гипотеза о независимости среднего количества\n",
      "посадочных мест от принадлежности к сетевому типу:\n",
      " - ресторан\n",
      " - магазин (отдел кулинарии)\n",
      " - закусочная\n",
      " - предприятие быстрого обслуживания\n",
      " - кафе\n"
     ]
    }
   ],
   "source": [
    "def test_student(chain_true, chain_false):\n",
    "        return ttest_ind(chain_true, chain_false,equal_var=False)\n",
    "    \n",
    "def test_mu(chain_true, chain_false):\n",
    "    return mannwhitneyu(chain_true, chain_false)\n",
    "\n",
    "def norm(numbers):\n",
    "    alpha = 0.05\n",
    "    print(numbers.min())\n",
    "    stat1, p1 = normaltest(numbers) # Критерий согласия Пирсона\n",
    "    print(f\"Statistics={stat1:.3f}, p-value={p1:.3f}\")\n",
    "    if p1 > alpha:\n",
    "        return True\n",
    "    else:\n",
    "        return False\n",
    "    \n",
    "number_diff = []\n",
    "number_equal = {}\n",
    "for name in set(chain_false['object_type'].values):\n",
    "    chain_2 =chain_false[chain_false['object_type'] == name].loc[:,'number'].values\n",
    "    if name in set(chain_true['object_type'].values):\n",
    "        chain_1 =  chain_true[chain_true['object_type'] == name].loc[:,'number'].values\n",
    "#        if norm(chain_1) and norm(chain_2):\n",
    "        u, pvalue = test_mu(chain_1, chain_2)\n",
    "        if pvalue >= 0.05:\n",
    "            number_equal[name] = u,pvalue\n",
    "                #print(f\"Для объектов питания {name} возможно одинаковое распределение посадочных мест \")\n",
    "                #print('u-статистика %0.3f p-value %0.3f' % (u, pvalue))\n",
    "        else:\n",
    "            number_diff.append(name)\n",
    "#        else:\n",
    "#            t, pvalue = test_mu(chain_1, chain_2)\n",
    "#            if pvalue >= 0.05:\n",
    "#                number_equal[name] = t,pvalue\n",
    "#                #print(f\"Для объектов питания {name} возможно одинаковое распределение посадочных мест \")\n",
    "#                #print('t-статистика %0.3f p-value %0.3f' % (t, pvalue))\n",
    "#            else:\n",
    "#                number_diff.append(name)\n",
    "print(f\"\\nТипы объектов питания,для которых не отвергается гипотеза \"\n",
    "      f\"о независимости среднего количества\\nпосадочных мест от принадлежности к сетевому типу:\")\n",
    "for key, values in number_equal.items():\n",
    "    print(f\" - {key} : ( u-статистика { values[0]:.3f} p-value {values[1]:0.3f})\")\n",
    "\n",
    "                #print(')\n",
    "            \n",
    "print(f\"\\nТипы объектов питания,для которых не подтверждается гипотеза \"\n",
    "      f\"о независимости среднего количества\\nпосадочных мест от принадлежности к сетевому типу:\")\n",
    "for name in number_diff:\n",
    "    print(f\" - {name}\")\n",
    "                \n",
    "        \n",
    "    \n",
    "\n",
    "        "
   ]
  },
  {
   "cell_type": "markdown",
   "metadata": {},
   "source": [
    "Полученный результат может объясняться тем, что количество объектов среди сетевых и несетевых объектов питания типа бар, кафетерий, столовая, буфет очень сильно различаются( от 3/2448 (столовая) до 36/790 (бар) и скорее всего множества количеств посадочных мест могут просто сильно пересекаться.\n",
    "Проверка пересечений этих множест показала:\n",
    "- Для столовых соотвествующее множество посадочных мест сетевых объектов полностью входит в множество для несетевых объектов ( все 3 варианта количества посадочных мест входят в множество для несетевых объектов)\n",
    "- Аналогично для буфетов\n",
    "- Для баров. Из 35 вариантов для сетевых объектов 23 варианта входят в множество для несетевых объектов ( 762 варианта)\n",
    "- Для кафетериев. Из 37 вариантов для сетевых объектов 17 вариантов входят в множество для несетевых объектов ( 223 варианта)\n",
    "\n",
    " "
   ]
  },
  {
   "cell_type": "code",
   "execution_count": 63,
   "metadata": {},
   "outputs": [
    {
     "name": "stdout",
     "output_type": "stream",
     "text": [
      "размер выборки для объекта столовая сетевые/несетевые' - 3/2301\n",
      "размер пересечения - 3: 100.0 % \n",
      "размер выборки для объекта буфет сетевые/несетевые' - 3/493\n",
      "размер пересечения - 3: 100.0 % \n",
      "размер выборки для объекта бар сетевые/несетевые' - 35/762\n",
      "размер пересечения - 23: 65.71 % \n",
      "размер выборки для объекта кафетерий сетевые/несетевые' - 37/223\n",
      "размер пересечения - 17: 45.95 % \n",
      "размер выборки для объекта ресторан сетевые/несетевые' - 469/1587\n",
      "размер пересечения - 83: 17.7 % \n",
      "размер выборки для объекта магазин (отдел кулинарии) сетевые/несетевые' - 45/80\n",
      "размер пересечения - 17: 37.78 % \n",
      "размер выборки для объекта закусочная сетевые/несетевые' - 36/118\n",
      "размер пересечения - 13: 36.11 % \n",
      "размер выборки для объекта предприятие быстрого обслуживания сетевые/несетевые' - 627/514\n",
      "размер пересечения - 43: 6.86 % \n",
      "размер выборки для объекта кафе сетевые/несетевые' - 1281/4127\n",
      "размер пересечения - 110: 8.59 % \n"
     ]
    }
   ],
   "source": [
    "names = ['столовая', 'буфет', 'бар','кафетерий','ресторан','магазин (отдел кулинарии)'\\\n",
    "         ,'закусочная','предприятие быстрого обслуживания','кафе']\n",
    "for name in names:\n",
    "    stol_true = chain_true[chain_true['object_type'] ==name]['number'].values.tolist()\n",
    "    stol_false = chain_false[chain_false['object_type'] ==name]['number'].values.tolist()\n",
    "    true_false = set(stol_true).intersection(set(stol_false))\n",
    "    print(f\"размер выборки для объекта {name} сетевые/несетевые' - {len(stol_true)}/{len(stol_false)}\")\n",
    "    print(f\"размер пересечения - {len(true_false)}: {round(len(true_false)/len((stol_true))*100,2)} % \")"
   ]
  },
  {
   "cell_type": "code",
   "execution_count": null,
   "metadata": {},
   "outputs": [],
   "source": [
    "\n"
   ]
  },
  {
   "cell_type": "code",
   "execution_count": null,
   "metadata": {},
   "outputs": [],
   "source": []
  },
  {
   "cell_type": "code",
   "execution_count": null,
   "metadata": {},
   "outputs": [],
   "source": []
  }
 ],
 "metadata": {
  "colab": {
   "collapsed_sections": [],
   "name": "project5.ipynb",
   "provenance": []
  },
  "kernelspec": {
   "display_name": "Python 3 (ipykernel)",
   "language": "python",
   "name": "python3"
  },
  "language_info": {
   "codemirror_mode": {
    "name": "ipython",
    "version": 3
   },
   "file_extension": ".py",
   "mimetype": "text/x-python",
   "name": "python",
   "nbconvert_exporter": "python",
   "pygments_lexer": "ipython3",
   "version": "3.9.7"
  },
  "toc": {
   "base_numbering": "1",
   "nav_menu": {},
   "number_sections": true,
   "sideBar": true,
   "skip_h1_title": false,
   "title_cell": "Содержание",
   "title_sidebar": "Contents",
   "toc_cell": true,
   "toc_position": {},
   "toc_section_display": true,
   "toc_window_display": false
  }
 },
 "nbformat": 4,
 "nbformat_minor": 1
}
